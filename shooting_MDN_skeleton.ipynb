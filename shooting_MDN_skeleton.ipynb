{
  "nbformat": 4,
  "nbformat_minor": 0,
  "metadata": {
    "colab": {
      "name": "Kopia notatnika shooting-MDN_skeleton.ipynb",
      "provenance": [],
      "collapsed_sections": [],
      "include_colab_link": true
    },
    "language_info": {
      "codemirror_mode": {
        "name": "ipython",
        "version": 3
      },
      "file_extension": ".py",
      "mimetype": "text/x-python",
      "name": "python",
      "nbconvert_exporter": "python",
      "pygments_lexer": "ipython3",
      "version": "3.6.5"
    },
    "kernelspec": {
      "name": "python3",
      "display_name": "Python 3"
    },
    "accelerator": "GPU"
  },
  "cells": [
    {
      "cell_type": "markdown",
      "metadata": {
        "id": "view-in-github",
        "colab_type": "text"
      },
      "source": [
        "<a href=\"https://colab.research.google.com/github/karol10542/MyRepo/blob/main/shooting_MDN_skeleton.ipynb\" target=\"_parent\"><img src=\"https://colab.research.google.com/assets/colab-badge.svg\" alt=\"Open In Colab\"/></a>"
      ]
    },
    {
      "cell_type": "markdown",
      "metadata": {
        "id": "NTPV2iB2iOqd"
      },
      "source": [
        "Zadanie:\n",
        "\n",
        "Strzelanie z armaty. \n",
        "Wejście: obrazek 64x64 piksele pokazujący kierunke lufy działa. \n",
        "Wyjście: miejsce trafienia. Jest ono rozmyte funkcją Gaussa.\n",
        "\n",
        "Na obecnym etapie sieć konwolucyjna znajduje na podstawie rysunku kierunek strzału i przewiduje najbardziej prawdopodobny punkt trafienia. \n",
        "\n",
        "Zadanie:\n",
        "1. Za pomocą sieci MDN znaleźć rozkład prawdopodobieństwa trafienia.\n",
        "2. Narysować taki rozkład dla zmieniających się położen lufy\n",
        "3. Narysować taki rozkład dla określonego położenia lufy armaty.\n",
        "4. Narysować rozkłady średnich i szerokości rozkładów Gaussa służących do aproksymacji rozkładu prawdopodobieństwa.\n",
        "5. Powtóryć analizę dla rozkładu prawdopodobieństwa trafienia będącego dwoma rozsuniętymi rozkładami gaussa:\n",
        "\n",
        "```\n",
        "  # Here the two-gaussian distribution is produced\n",
        "  rand1 = np.random.normal(loc=  1, scale=scale, size=half_sample)\n",
        "  rand2 = np.random.normal(loc= -1, scale=scale, size=NSAMPLE-half_sample)\n",
        "  random = np.concatenate((rand1,rand2), axis=0)\n",
        "  y_data = tan_angle*length + random\n",
        "```\n",
        "\n",
        "\n"
      ]
    },
    {
      "cell_type": "markdown",
      "metadata": {
        "id": "e-GI2H1ELDZQ"
      },
      "source": [
        "# Shoot the cannon\n",
        "\n",
        "The position of the cannon is decoded from the 64x64 pixel image (convolutional network should be used). The cannon shoots and the hit point is smeared by some not neceserily gaussian probability (could be two gaussians with different means).\n",
        "The task is to design the MDN network to find the probability of the hit position.\n",
        "\n",
        "\n",
        "# Mixture Density Network\n",
        "\n",
        "Reproducing the classic Bishop MDN network tasks in Keras. The idea in this task is to predict a the value of an inverse sine function. This function has multiple real-valued solutions at each point, so the ANN model needs to have the capacity to handle this in it's loss function. An MDN is a good way to handle the predictions of these multiple output values.\n",
        "\n",
        "There's a couple of other versions of this task, and this implementation owes much to the following:\n",
        "\n",
        "- [David Ha - Mixture Density Networks with TensorFlow](http://blog.otoro.net/2015/11/24/mixture-density-networks-with-tensorflow/)\n",
        "- [Mixture Density Networks in Edward](http://edwardlib.org/tutorials/mixture-density-network)"
      ]
    },
    {
      "cell_type": "code",
      "metadata": {
        "id": "pZ2ic1BLLDZV",
        "colab": {
          "base_uri": "https://localhost:8080/"
        },
        "outputId": "94f0dedc-8565-4cc2-8b25-7500260d2acb"
      },
      "source": [
        "# Install mdn\n",
        "!pip install keras-mdn-layer\n",
        "\n",
        "\n",
        "from tensorflow.compat.v1 import keras\n",
        "from keras.layers import Dense, Dropout, Flatten\n",
        "from keras.layers import Conv2D, MaxPooling2D\n",
        "\n",
        "import mdn\n",
        " \n",
        "import numpy as np\n",
        "import random\n",
        "import matplotlib.pyplot as plt\n"
      ],
      "execution_count": null,
      "outputs": [
        {
          "output_type": "stream",
          "text": [
            "Requirement already satisfied: keras-mdn-layer in /usr/local/lib/python3.6/dist-packages (0.3.0)\n"
          ],
          "name": "stdout"
        }
      ]
    },
    {
      "cell_type": "markdown",
      "metadata": {
        "id": "ytpfizwKLDZf"
      },
      "source": [
        "## Generate Synthetic Data\n",
        "\n",
        "Data generation"
      ]
    },
    {
      "cell_type": "code",
      "metadata": {
        "id": "8VpAAURELDZj"
      },
      "source": [
        "PLOT_WIDTH = 64\n",
        "PLOT_DIM = (PLOT_WIDTH,PLOT_WIDTH)\n",
        "MAX_ANGLE = 0.4\n",
        "\n",
        "def generate_data(NSAMPLE=3000, scale=1., rotation_range=0.3, rotation=0):\n",
        "# NSAMPLE - number of shoots\n",
        "# scale - smearing of each gaussian\n",
        "# rotation-range - cannon can rotate in this range\n",
        "# rotation - center of the rotation range\n",
        "\n",
        "  # shooting angle\n",
        "  tan_angle = np.float32(np.random.uniform(rotation - rotation_range, rotation + rotation_range, NSAMPLE))\n",
        "  \n",
        "\n",
        "  # target shooting\n",
        "  length = 30.\n",
        "  \n",
        "  half_sample = int(NSAMPLE/2)\n",
        "\n",
        "  # Here the two-gaussian distribution is produced \n",
        "  # here we can produce two-gaussians distribution\n",
        "  rand1 = np.random.normal(loc=  1, scale=scale, size=half_sample)\n",
        "  rand2 = np.random.normal(loc=  1, scale=scale, size=NSAMPLE-half_sample)\n",
        "  random = np.concatenate((rand1,rand2), axis=0)\n",
        "  y_data = tan_angle*length + random\n",
        "\n",
        "\n",
        "  # generate events\n",
        "  x_data=np.zeros((NSAMPLE,PLOT_DIM[0],PLOT_DIM[1],1))\n",
        "\n",
        "  x = np.arange(start=0, stop=PLOT_WIDTH, step=1.)\n",
        "  y = npy = tan_angle * x[ :, np.newaxis]+PLOT_WIDTH/2\n",
        "\n",
        "  for i in range(NSAMPLE):\n",
        "    for j in range(2,PLOT_WIDTH-2):\n",
        "      x_data[i,int(y[j,i]),j] = 1.\n",
        "\n",
        "  # normalize y_data\n",
        "  y_data = y_data/(MAX_ANGLE*length)\n",
        "  x_data = x_data.reshape(NSAMPLE,PLOT_WIDTH,PLOT_WIDTH,1)\n",
        "\n",
        "  # plot the generated distribution\n",
        "  #plt.hist(y_data, density=True, bins=30,  alpha=0.5, label='train data') \n",
        "  #plt.show()\n",
        "\n",
        "  return x_data, y_data\n",
        "\n"
      ],
      "execution_count": null,
      "outputs": []
    },
    {
      "cell_type": "code",
      "metadata": {
        "colab": {
          "base_uri": "https://localhost:8080/",
          "height": 904
        },
        "id": "_5lZynmLddWd",
        "outputId": "3a0d8bc9-86fb-4104-e4e1-f9161bca04ac"
      },
      "source": [
        "## Generating some data:\n",
        "NSAMPLE = 10000\n",
        "SCALE = 0.2\n",
        "\n",
        "x_data, y_data = generate_data(NSAMPLE=NSAMPLE, scale=SCALE, rotation_range=0.3, rotation=0)\n",
        "\n",
        "fig = plt.figure(figsize=(4, 16))\n",
        "\n",
        "# plot first ten events\n",
        "for n in range(10):\n",
        "  ax = fig.add_subplot(10, 2, 2*n + 1, xticks=[], yticks=[])\n",
        "  ax.imshow(x_data[n].reshape(PLOT_WIDTH,PLOT_WIDTH), interpolation='nearest')\n",
        "  ax = fig.add_subplot(10, 2, 2*n + 2, xticks=[], yticks=[])\n",
        "  ax.plot([0],[-y_data[n]], 'ro',)\n",
        "  plt.ylim([-1, 1])\n",
        "  plt.xlim([-1, 1])\n",
        "\n",
        "plt.show()\n"
      ],
      "execution_count": null,
      "outputs": [
        {
          "output_type": "display_data",
          "data": {
            "image/png": "[encoded data removed]",
            "text/plain": [
              "<Figure size 288x1152 with 20 Axes>"
            ]
          },
          "metadata": {
            "tags": []
          }
        }
      ]
    },
    {
      "cell_type": "markdown",
      "metadata": {
        "id": "UkfBXIcjLDZt"
      },
      "source": [
        "## Build the MDN Model\n",
        "\n",
        "Now we will construct the MDN model in Keras. This uses the `Sequential` model interface in Keras.\n",
        "\n",
        "The `MDN` layer comes after one or more `Dense` layers. You need to define the output dimension and number of mixtures for the MDN like so: `MDN(output_dimension, number_mixtures)`.\n",
        "\n",
        "\n",
        "\n",
        "For MDNs, we have to use a special loss function that can handle the mixture parameters: the function has to take into account the number of output dimensions and mixtures."
      ]
    },
    {
      "cell_type": "code",
      "metadata": {
        "id": "X6IJ9t0RLDZu",
        "colab": {
          "base_uri": "https://localhost:8080/",
          "height": 128
        },
        "outputId": "35ef72d7-9d4b-44d9-ec65-dcf4619f9a77"
      },
      "source": [
        "N_HIDDEN = 128\n",
        "N_MIXES = 2  #5\n",
        "\n",
        "print(x_data.shape)\n",
        "\n",
        "model = keras.Sequential()\n",
        "\n",
        "# convolutional network\n",
        "model.add(Conv2D(32, kernel_size=(3, 3),\n",
        "                 activation='relu',\n",
        "                 input_shape=(PLOT_WIDTH,PLOT_WIDTH,1)))\n",
        "model.add(Conv2D(64, (3, 3), activation='relu'))\n",
        "model.add(MaxPooling2D(pool_size=(2, 2)))\n",
        "model.add(Dropout(0.25))\n",
        "\n",
        "model.add(Conv2D(64, kernel_size=(3, 3),\n",
        "                 activation='relu'))\n",
        "model.add(Conv2D(64, (3, 3), activation='relu'))\n",
        "model.add(MaxPooling2D(pool_size=(2, 2)))\n",
        "model.add(Dropout(0.25))\n",
        "\n",
        "model.add(Flatten())\n",
        "model.add(Dense(N_HIDDEN, activation='relu'))\n",
        "model.add(Dense(N_HIDDEN, activation='relu'))\n",
        "\n",
        "'''\n",
        "# fully connected network\n",
        "model.add(Flatten(batch_input_shape=(None, PLOT_WIDTH*PLOT_WIDTH,1)) )\n",
        "model.add(Dense(N_HIDDEN, activation='relu'))\n",
        "model.add(Dense(N_HIDDEN, activation='relu'))\n",
        "model.add(Dropout(0.2))\n",
        "\n",
        "model.add(Dense(N_HIDDEN, activation='relu'))\n",
        "model.add(Dense(N_HIDDEN, activation='relu'))\n",
        "model.add(Dropout(0.2))\n",
        "\n",
        "model.add(Dense(N_HIDDEN, activation='relu'))\n",
        "'''\n",
        "# last layer with single node to return the hit position\n",
        "model.add(mdn.MDN((1,N_MIXES))\n",
        "\n",
        "\n",
        "# RMSprop() optimizer is used (adam was slightly unstable)\n",
        "# Dla MDN można użyć i potem rysować  metrics=[mdn.get_mixture_mse_accuracy(1,N_MIXES)]\n",
        "model.compile(loss=mdn.get_mixture_loss_func(1,N_MIXES), optimizer=keras.optimizers.RMSprop(),metrics=[mdn.get_mixture_mse_accuracy(1,N_MIXES)])\n",
        "model.summary()"
      ],
      "execution_count": null,
      "outputs": [
        {
          "output_type": "error",
          "ename": "SyntaxError",
          "evalue": "ignored",
          "traceback": [
            "\u001b[0;36m  File \u001b[0;32m\"<ipython-input-20-846ce92ef55f>\"\u001b[0;36m, line \u001b[0;32m45\u001b[0m\n\u001b[0;31m    model.compile(loss=mdn.get_mixture_loss_func(1,N_MIXES), optimizer=keras.optimizers.RMSprop(),metrics=[mdn.get_mixture_mse_accuracy(1,N_MIXES)])\u001b[0m\n\u001b[0m        ^\u001b[0m\n\u001b[0;31mSyntaxError\u001b[0m\u001b[0;31m:\u001b[0m invalid syntax\n"
          ]
        }
      ]
    },
    {
      "cell_type": "markdown",
      "metadata": {
        "id": "DbpCyfycLDZ1"
      },
      "source": [
        "### Training the model\n",
        "\n",
        "Now we train the model using Keras' normal `fit` command."
      ]
    },
    {
      "cell_type": "code",
      "metadata": {
        "id": "DklknLO6LDZ3"
      },
      "source": [
        "# Dla MDN liczba epochs powinna być większa, np. 100\n",
        "history = model.fit(x=x_data, y=y_data, batch_size=128, epochs=40, validation_split=0.2)"
      ],
      "execution_count": null,
      "outputs": []
    },
    {
      "cell_type": "markdown",
      "metadata": {
        "id": "BzyMrK3OLDaM"
      },
      "source": [
        "### Training and Validation Loss\n",
        "\n",
        "It's interesting to see how the model trained. We can see that after a certain point training is rather slow.\n",
        "\n"
      ]
    },
    {
      "cell_type": "code",
      "metadata": {
        "id": "sc1Osf5wLDaO"
      },
      "source": [
        "plt.figure(figsize=(10, 5))\n",
        "#plt.ylim([0,0.02])\n",
        "plt.plot(history.history['val_mse'], label='loss' )\n",
        "plt.plot(history.history['val_mse_func'], label='val loss' )\n",
        "plt.legend(loc='upper right')\n",
        "plt.show()"
      ],
      "execution_count": null,
      "outputs": []
    },
    {
      "cell_type": "markdown",
      "metadata": {
        "id": "1_H0D1t9LDaT"
      },
      "source": [
        "## Sampling Functions\n",
        "\n",
        "The MDN model outputs parameters of a mixture model---a list of means (mu), variances (sigma), and weights (pi).\n",
        "\n",
        "The `mdn` module provides a function to sample from these parameters as follows. First the parameters are split up into `mu`s, `sigma`s and `pi`s, then the categorical distribution formed by the `pi`s is sampled to choose which mixture component should be sampled, then that component's `mu`s and `sigma`s is used to sample from a multivariate normal model, here's the code:\n",
        "\n",
        "    def sample_from_output(params, output_dim, num_mixes, temp=1.0):\n",
        "        \"\"\"Sample from an MDN output with temperature adjustment.\"\"\"\n",
        "        mus = params[:num_mixes*output_dim]\n",
        "        sigs = params[num_mixes*output_dim:2*num_mixes*output_dim]\n",
        "        pis = softmax(params[-num_mixes:], t=temp)\n",
        "        m = sample_from_categorical(pis)\n",
        "        # Alternative way to sample from categorical:\n",
        "        # m = np.random.choice(range(len(pis)), p=pis)\n",
        "        mus_vector = mus[m*output_dim:(m+1)*output_dim]\n",
        "        sig_vector = sigs[m*output_dim:(m+1)*output_dim] * temp  # adjust for temperature\n",
        "        cov_matrix = np.identity(output_dim) * sig_vector\n",
        "        sample = np.random.multivariate_normal(mus_vector, cov_matrix, 1)\n",
        "        return sample\n",
        "        \n",
        "If you only have one prediction to sample from, you can use the function as is; but if you need to sample from a lot of predictions at once (as in the following sections), you can use `np.apply_along_axis` to apply it to a whole numpy array of predicted parameters."
      ]
    },
    {
      "cell_type": "markdown",
      "metadata": {
        "id": "An3SY1HuLDaU"
      },
      "source": [
        "## Try out the MDN Model\n",
        "\n",
        "Now we try out the model by making predictions for some data points\n",
        "\n",
        "We're going to sample from these parameters for each point, and also try plotting the parameters themselves so we can have some insight into what the model is learning!"
      ]
    },
    {
      "cell_type": "code",
      "metadata": {
        "id": "if5UOTdkAwi-"
      },
      "source": [
        "# generate test data\n",
        "\n",
        "# the whole range of data (identical with the training sample)\n",
        "x_test, y_test = generate_data(NSAMPLE=NSAMPLE, scale=SCALE, rotation_range=0.3, rotation = 0.0)\n",
        "# just one shooting position\n",
        "#x_test, y_test = generate_data(NSAMPLE=NSAMPLE, scale=SCALE, rotation_range=0.01, rotation = 0.2)"
      ],
      "execution_count": null,
      "outputs": []
    },
    {
      "cell_type": "code",
      "metadata": {
        "id": "XpfvXqp-LDaW"
      },
      "source": [
        "## Sample on some test data:\n",
        "\n",
        "\n",
        "# Make predictions from the model\n",
        "y_pred = model.predict(x_test)\n",
        "# y_test contains parameters for distributions, not actual points on the graph.\n",
        "# To find points on the graph, we need to sample from each distribution.\n",
        "# Sample from the predicted distributions\n",
        "y_samples = np.apply_along_axis(mdn.sample_from_output, 1, y_pred, 1, N_MIXES,temp=1.0)\n",
        "\n",
        "# Split up the mixture parameters (for future fun)\n",
        "mus = np.apply_along_axis((lambda a: a[:N_MIXES]),1, y_pred)\n",
        "sigs = np.apply_along_axis((lambda a: a[N_MIXES:2*N_MIXES]),1, y_pred)\n",
        "pis = np.apply_along_axis((lambda a: mdn.softmax(a[2*N_MIXES:])),1, y_pred)\n",
        "Testing: 3000 samples."
      ],
      "execution_count": null,
      "outputs": []
    },
    {
      "cell_type": "code",
      "metadata": {
        "id": "VESVRp3XgXTu"
      },
      "source": [
        "\n",
        "# Tu można narysować rozkłady parametrów rozkładów Gaussa użytych do aproksymacji prawdopodobieństwa\n",
        "\n"
      ],
      "execution_count": null,
      "outputs": []
    },
    {
      "cell_type": "code",
      "metadata": {
        "id": "J0A-p2mFLDae"
      },
      "source": [
        "\n",
        "# Plot the samples\n",
        "plt.figure(figsize=(8, 8))\n",
        "plt.hist(y_data.reshape(NSAMPLE,1), density=True, bins=30,  alpha=0.5, label='training data') \n",
        "plt.hist(y_test.reshape(NSAMPLE,1), density=True, bins=30,  alpha=0.5, label='test data')\n",
        "plt.hist(y_samples.reshape(NSAMPLE,1), density=True, bins=30,  alpha=0.5, label='predicted')\n",
        "plt.legend(loc='upper right')\n",
        "plt.show()\n",
        "\n",
        "plt.figure(figsize=(8, 8))\n",
        "plt.scatter(y_test,y_samples)\n",
        "plt.xlabel(\"test hits\")\n",
        "plt.ylabel(\"predicted hits\")\n",
        "\n",
        "plt.show()"
      ],
      "execution_count": null,
      "outputs": []
    }
  ]
}