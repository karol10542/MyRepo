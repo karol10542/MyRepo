{
  "nbformat": 4,
  "nbformat_minor": 0,
  "metadata": {
    "colab": {
      "name": "Kopia notatnika simple_mnist_mdn",
      "provenance": [],
      "collapsed_sections": [],
      "include_colab_link": true
    },
    "kernelspec": {
      "display_name": "Python 3",
      "language": "python",
      "name": "python3"
    },
    "language_info": {
      "codemirror_mode": {
        "name": "ipython",
        "version": 3
      },
      "file_extension": ".py",
      "mimetype": "text/x-python",
      "name": "python",
      "nbconvert_exporter": "python",
      "pygments_lexer": "ipython3",
      "version": "3.7.0"
    },
    "accelerator": "GPU"
  },
  "cells": [
    {
      "cell_type": "markdown",
      "metadata": {
        "id": "view-in-github",
        "colab_type": "text"
      },
      "source": [
        "<a href=\"https://colab.research.google.com/github/karol10542/MyRepo/blob/main/plik_z_wykladu_simple_mnist_mdn.ipynb\" target=\"_parent\"><img src=\"https://colab.research.google.com/assets/colab-badge.svg\" alt=\"Open In Colab\"/></a>"
      ]
    },
    {
      "cell_type": "markdown",
      "metadata": {
        "id": "fmh6SmeFajVS"
      },
      "source": [
        "# Simple MNIST dense net with Mixture Density Network\n",
        "A skeleton!\n",
        "\n",
        "Based on:\n",
        "https://keras.io/examples/vision/mnist_convnet/ "
      ]
    },
    {
      "cell_type": "markdown",
      "metadata": {
        "id": "-Jvn9yhlajWW"
      },
      "source": [
        "## Setup"
      ]
    },
    {
      "cell_type": "code",
      "metadata": {
        "id": "yjwP9GSZajWi"
      },
      "source": [
        "import numpy as np\n",
        "from tensorflow import keras\n",
        "from tensorflow.keras import layers\n",
        "\n",
        "import matplotlib.pyplot as plt\n"
      ],
      "execution_count": null,
      "outputs": []
    },
    {
      "cell_type": "markdown",
      "metadata": {
        "id": "wlM6l6cCajWt"
      },
      "source": [
        "## Prepare the data"
      ]
    },
    {
      "cell_type": "code",
      "metadata": {
        "id": "8G4owrCqajWz"
      },
      "source": [
        "\n",
        "def prepare_data(x_train, y_train, x_test, y_test,num_classes):\n",
        "  #Select 2 classes\n",
        "  N_CLASSES = num_classes\n",
        "\n",
        "  indices = np.where(y_train < N_CLASSES) # if few classes needed\n",
        "  indices = indices[0]\n",
        "  np.random.shuffle(indices)\n",
        "  x_train = x_train[indices]\n",
        "  y_train = y_train[indices]\n",
        "\n",
        "  indices = np.where(y_test < N_CLASSES) # if few  classes only\n",
        "  indices = indices[0]\n",
        "  np.random.shuffle(indices)\n",
        "  x_test = x_test[indices]\n",
        "  y_test = y_test[indices]\n",
        "\n",
        "  # Scale images to the [0, 1] range\n",
        "  x_train = x_train.astype(\"float32\") / 255\n",
        "  x_test = x_test.astype(\"float32\") / 255\n",
        "  # Make sure images have shape (28, 28, 1)\n",
        "  x_train = np.expand_dims(x_train, -1)\n",
        "  x_test = np.expand_dims(x_test, -1)\n",
        "  print(\"x_train shape:\", x_train.shape)\n",
        "  print(x_train.shape[0], \"train samples\")\n",
        "  print(x_test.shape[0], \"test samples\")\n",
        "\n",
        "\n",
        "  # convert class vectors to binary class matrices\n",
        "  y_train = keras.utils.to_categorical(y_train, num_classes)\n",
        "  y_test = keras.utils.to_categorical(y_test, num_classes)\n",
        "  \n",
        "  return x_train, y_train, x_test, y_test"
      ],
      "execution_count": null,
      "outputs": []
    },
    {
      "cell_type": "code",
      "metadata": {
        "colab": {
          "base_uri": "https://localhost:8080/"
        },
        "id": "gTz24B7dL82L",
        "outputId": "623f89d0-a194-46e6-bb63-fa26ea99c902"
      },
      "source": [
        "# Model / data parameters\n",
        "num_classes = 10\n",
        "input_shape = (28, 28, 1)\n",
        "\n",
        "# the data, split between train and test sets\n",
        "(x_train, y_train), (x_test, y_test) = keras.datasets.mnist.load_data()\n",
        "\n",
        "x_train, y_train, x_test, y_test = prepare_data(x_train, y_train, x_test, y_test,num_classes)"
      ],
      "execution_count": null,
      "outputs": [
        {
          "output_type": "stream",
          "text": [
            "x_train shape: (60000, 28, 28, 1)\n",
            "60000 train samples\n",
            "10000 test samples\n"
          ],
          "name": "stdout"
        }
      ]
    },
    {
      "cell_type": "markdown",
      "metadata": {
        "id": "vTwL6goAYZ36"
      },
      "source": [
        "# **Install keras-mdn-layer**"
      ]
    },
    {
      "cell_type": "code",
      "metadata": {
        "id": "xemf-rMdbFos",
        "colab": {
          "base_uri": "https://localhost:8080/"
        },
        "outputId": "2c57ec75-3b45-4d6f-ce83-8701c1b16acd"
      },
      "source": [
        "! pip install keras-mdn-layer\n",
        "import mdn"
      ],
      "execution_count": null,
      "outputs": [
        {
          "output_type": "stream",
          "text": [
            "Requirement already satisfied: keras-mdn-layer in /usr/local/lib/python3.6/dist-packages (0.3.0)\n"
          ],
          "name": "stdout"
        }
      ]
    },
    {
      "cell_type": "markdown",
      "metadata": {
        "id": "rzjY4snPYihC"
      },
      "source": [
        "Parameters for MDN"
      ]
    },
    {
      "cell_type": "code",
      "metadata": {
        "id": "o_NeXX2IbOts"
      },
      "source": [
        "N_HIDDEN = 256 #256  # number of hidden units in the Dense layer\n",
        "N_MIXES = 1  # number of mixture components\n",
        "OUTPUT_DIMS = num_classes  # number of real-values predicted by each mixture component\n"
      ],
      "execution_count": null,
      "outputs": []
    },
    {
      "cell_type": "markdown",
      "metadata": {
        "id": "kpTxuNkXajW7"
      },
      "source": [
        "## Build the model"
      ]
    },
    {
      "cell_type": "code",
      "metadata": {
        "id": "d4b1oZ0vajXB",
        "colab": {
          "base_uri": "https://localhost:8080/"
        },
        "outputId": "5dcf53d0-3f2b-4208-b2c1-8bb6ec4c0839"
      },
      "source": [
        "model = keras.Sequential()\n",
        "model.add(keras.Input(shape=input_shape))\n",
        "model.add(layers.Flatten())\n",
        "model.add(layers.Dense(N_HIDDEN, activation=\"relu\"))\n",
        "model.add(layers.Dense(N_HIDDEN, activation=\"relu\"))\n",
        "\n",
        "model.add(layers.Dense(N_HIDDEN, activation=\"relu\"))\n",
        "model.add(mdn.MDN(OUTPUT_DIMS, N_MIXES))\n",
        "#model.add(layers.Dense(OUTPUT_DIMS, activation=\"softmax\"))\n",
        "\n",
        "\n",
        "model.summary()"
      ],
      "execution_count": null,
      "outputs": [
        {
          "output_type": "stream",
          "text": [
            "Model: \"sequential_5\"\n",
            "_________________________________________________________________\n",
            "Layer (type)                 Output Shape              Param #   \n",
            "=================================================================\n",
            "flatten_5 (Flatten)          (None, 784)               0         \n",
            "_________________________________________________________________\n",
            "dense_18 (Dense)             (None, 256)               200960    \n",
            "_________________________________________________________________\n",
            "dense_19 (Dense)             (None, 256)               65792     \n",
            "_________________________________________________________________\n",
            "dense_20 (Dense)             (None, 256)               65792     \n",
            "_________________________________________________________________\n",
            "mdn_4 (MDN)                  (None, 21)                5397      \n",
            "=================================================================\n",
            "Total params: 337,941\n",
            "Trainable params: 337,941\n",
            "Non-trainable params: 0\n",
            "_________________________________________________________________\n"
          ],
          "name": "stdout"
        }
      ]
    },
    {
      "cell_type": "markdown",
      "metadata": {
        "id": "HvJmnod6ajXE"
      },
      "source": [
        "## Train the model"
      ]
    },
    {
      "cell_type": "code",
      "metadata": {
        "id": "eHglMbLhajXI",
        "colab": {
          "base_uri": "https://localhost:8080/"
        },
        "outputId": "8e87518b-8936-42a0-8b0c-fede4de96a04"
      },
      "source": [
        "batch_size = 128\n",
        "epochs = 30\n",
        "\n",
        "# This is for normal dense network\n",
        "model.compile(loss=mdn.get_mixture_loss_func(OUTPUT_DIMS,N_MIXES), optimizer=\"adam\", metrics=[\"accuracy\"])\n",
        "\n",
        "\n",
        "model.fit(x_train, y_train, batch_size=batch_size, epochs=epochs, validation_data=(x_test, y_test)) #validation_split=0.1)"
      ],
      "execution_count": null,
      "outputs": [
        {
          "output_type": "stream",
          "text": [
            "Epoch 1/30\n",
            "469/469 [==============================] - 5s 7ms/step - loss: -6.8289 - accuracy: 0.6565 - val_loss: -15.9279 - val_accuracy: 0.9244\n",
            "Epoch 2/30\n",
            "469/469 [==============================] - 3s 7ms/step - loss: -16.1104 - accuracy: 0.8940 - val_loss: -19.7085 - val_accuracy: 0.9449\n",
            "Epoch 3/30\n",
            "469/469 [==============================] - 3s 7ms/step - loss: -17.3691 - accuracy: 0.8771 - val_loss: -20.6067 - val_accuracy: 0.9507\n",
            "Epoch 4/30\n",
            "469/469 [==============================] - 3s 7ms/step - loss: -21.0807 - accuracy: 0.9495 - val_loss: -23.0172 - val_accuracy: 0.9517\n",
            "Epoch 5/30\n",
            "469/469 [==============================] - 3s 7ms/step - loss: -20.1421 - accuracy: 0.8963 - val_loss: -21.3728 - val_accuracy: 0.8811\n",
            "Epoch 6/30\n",
            "469/469 [==============================] - 3s 7ms/step - loss: -18.8239 - accuracy: 0.8425 - val_loss: -20.9747 - val_accuracy: 0.9537\n",
            "Epoch 7/30\n",
            "469/469 [==============================] - 3s 7ms/step - loss: -22.1587 - accuracy: 0.9398 - val_loss: -22.4108 - val_accuracy: 0.9452\n",
            "Epoch 8/30\n",
            "469/469 [==============================] - 3s 6ms/step - loss: -22.7982 - accuracy: 0.9222 - val_loss: 2.8424 - val_accuracy: 0.9596\n",
            "Epoch 9/30\n",
            "469/469 [==============================] - 3s 7ms/step - loss: -22.9024 - accuracy: 0.9316 - val_loss: -23.8394 - val_accuracy: 0.9505\n",
            "Epoch 10/30\n",
            "469/469 [==============================] - 3s 7ms/step - loss: -25.8905 - accuracy: 0.9467 - val_loss: -23.6337 - val_accuracy: 0.9404\n",
            "Epoch 11/30\n",
            "469/469 [==============================] - 3s 7ms/step - loss: -28.4413 - accuracy: 0.9586 - val_loss: -28.0508 - val_accuracy: 0.9520\n",
            "Epoch 12/30\n",
            "469/469 [==============================] - 3s 7ms/step - loss: -28.9282 - accuracy: 0.9561 - val_loss: -21.4884 - val_accuracy: 0.9343\n",
            "Epoch 13/30\n",
            "469/469 [==============================] - 3s 7ms/step - loss: -29.8182 - accuracy: 0.9523 - val_loss: -25.7308 - val_accuracy: 0.9359\n",
            "Epoch 14/30\n",
            "469/469 [==============================] - 3s 7ms/step - loss: -31.7058 - accuracy: 0.9468 - val_loss: -24.9679 - val_accuracy: 0.9091\n",
            "Epoch 15/30\n",
            "469/469 [==============================] - 3s 6ms/step - loss: -30.4278 - accuracy: 0.9263 - val_loss: -24.8628 - val_accuracy: 0.8769\n",
            "Epoch 16/30\n",
            "469/469 [==============================] - 3s 7ms/step - loss: -30.4266 - accuracy: 0.9077 - val_loss: -19.2211 - val_accuracy: 0.9213\n",
            "Epoch 17/30\n",
            "469/469 [==============================] - 3s 7ms/step - loss: -33.9279 - accuracy: 0.9454 - val_loss: -11.3678 - val_accuracy: 0.9480\n",
            "Epoch 18/30\n",
            "469/469 [==============================] - 3s 7ms/step - loss: -30.0229 - accuracy: 0.9304 - val_loss: -17.5140 - val_accuracy: 0.9406\n",
            "Epoch 19/30\n",
            "469/469 [==============================] - 3s 7ms/step - loss: -33.4950 - accuracy: 0.9550 - val_loss: -22.7839 - val_accuracy: 0.8929\n",
            "Epoch 20/30\n",
            "469/469 [==============================] - 3s 7ms/step - loss: -32.1076 - accuracy: 0.8849 - val_loss: -12.0918 - val_accuracy: 0.9213\n",
            "Epoch 21/30\n",
            "469/469 [==============================] - 3s 6ms/step - loss: -33.2380 - accuracy: 0.9261 - val_loss: -15.8587 - val_accuracy: 0.8954\n",
            "Epoch 22/30\n",
            "469/469 [==============================] - 3s 7ms/step - loss: -35.5787 - accuracy: 0.9305 - val_loss: -15.9127 - val_accuracy: 0.9196\n",
            "Epoch 23/30\n",
            "469/469 [==============================] - 3s 7ms/step - loss: -35.6594 - accuracy: 0.9397 - val_loss: -18.8657 - val_accuracy: 0.9328\n",
            "Epoch 24/30\n",
            "469/469 [==============================] - 3s 6ms/step - loss: -37.3117 - accuracy: 0.9486 - val_loss: -3.2097 - val_accuracy: 0.9381\n",
            "Epoch 25/30\n",
            "469/469 [==============================] - 3s 6ms/step - loss: -33.0583 - accuracy: 0.9376 - val_loss: -19.8348 - val_accuracy: 0.8723\n",
            "Epoch 26/30\n",
            "469/469 [==============================] - 3s 7ms/step - loss: -36.9731 - accuracy: 0.9316 - val_loss: 8.1772 - val_accuracy: 0.9004\n",
            "Epoch 27/30\n",
            "469/469 [==============================] - 3s 6ms/step - loss: -38.6432 - accuracy: 0.9345 - val_loss: -21.6937 - val_accuracy: 0.9102\n",
            "Epoch 28/30\n",
            "469/469 [==============================] - 3s 6ms/step - loss: -38.1875 - accuracy: 0.9405 - val_loss: 7.0712 - val_accuracy: 0.9173\n",
            "Epoch 29/30\n",
            "469/469 [==============================] - 3s 6ms/step - loss: -38.5995 - accuracy: 0.9152 - val_loss: 11.1261 - val_accuracy: 0.9217\n",
            "Epoch 30/30\n",
            "469/469 [==============================] - 3s 7ms/step - loss: -40.8747 - accuracy: 0.9206 - val_loss: 22.0369 - val_accuracy: 0.8965\n"
          ],
          "name": "stdout"
        },
        {
          "output_type": "execute_result",
          "data": {
            "text/plain": [
              "<tensorflow.python.keras.callbacks.History at 0x7f3691f2d6a0>"
            ]
          },
          "metadata": {
            "tags": []
          },
          "execution_count": 34
        }
      ]
    },
    {
      "cell_type": "markdown",
      "metadata": {
        "id": "7C7dsTO9ZHeT"
      },
      "source": [
        "# **Model prediction with MDN**"
      ]
    },
    {
      "cell_type": "code",
      "metadata": {
        "id": "syHuMw6wdGkO",
        "colab": {
          "base_uri": "https://localhost:8080/"
        },
        "outputId": "238f0f72-6a4f-4aca-9f13-80c257990bfe"
      },
      "source": [
        "y_test_out = model.predict(x_test[1:2])\n",
        "\n",
        "print(y_test_out )\n",
        "\n"
      ],
      "execution_count": null,
      "outputs": [
        {
          "output_type": "stream",
          "text": [
            "[[ 1.3842275e-03  2.9317469e-03  1.6079121e-03  2.3137638e-04\n",
            "   1.1050313e-03 -1.4641974e-03  1.6903763e-03  2.4303626e-03\n",
            "   9.3777198e-01 -4.9099326e-04  3.7387609e-03  1.6475916e-03\n",
            "   3.7432909e-03  2.7938724e-02  1.7662644e-03  1.2983620e-02\n",
            "   3.7859082e-03  4.2087436e-03  1.6652668e-01  9.2785954e-03\n",
            "   1.4604034e-01]]\n"
          ],
          "name": "stdout"
        }
      ]
    },
    {
      "cell_type": "code",
      "metadata": {
        "id": "E2Nx4zG-dzDT",
        "colab": {
          "base_uri": "https://localhost:8080/"
        },
        "outputId": "fe3dc828-8d6a-403f-a022-63e67919ae20"
      },
      "source": [
        "\n",
        "mus= y_test_out[:,: N_MIXES*OUTPUT_DIMS]\n",
        "\n",
        "sigs = y_test_out[:,N_MIXES*OUTPUT_DIMS:2*N_MIXES*OUTPUT_DIMS]\n",
        "\n",
        "print(mus)\n",
        "print(sigs)"
      ],
      "execution_count": null,
      "outputs": [
        {
          "output_type": "stream",
          "text": [
            "[[ 1.3842275e-03  2.9317469e-03  1.6079121e-03  2.3137638e-04\n",
            "   1.1050313e-03 -1.4641974e-03  1.6903763e-03  2.4303626e-03\n",
            "   9.3777198e-01 -4.9099326e-04]]\n",
            "[[0.00373876 0.00164759 0.00374329 0.02793872 0.00176626 0.01298362\n",
            "  0.00378591 0.00420874 0.16652668 0.0092786 ]]\n"
          ],
          "name": "stdout"
        }
      ]
    },
    {
      "cell_type": "code",
      "metadata": {
        "id": "7Q3RrnD-4d5r",
        "colab": {
          "base_uri": "https://localhost:8080/",
          "height": 329
        },
        "outputId": "8064bd08-14a4-4b41-8ffc-5185bd8b40ad"
      },
      "source": [
        "# use the model to predict the labels of the test data\n",
        "\n",
        "\n",
        "\n",
        "# Plot the prediction\n",
        "fig = plt.figure(figsize=(8, 30))  # figure size in inches\n",
        "fig.subplots_adjust(left=0, right=1, bottom=0, top=1, hspace=0.05, wspace=0.05)\n",
        "\n",
        "\n",
        "# plot the digits: each image is 28x28 pixels\n",
        "n_img=30\n",
        "for i in range(n_img):\n",
        "    ax = fig.add_subplot(n_img, 3, 3*i + 1, xticks=[], yticks=[])\n",
        "    ax.imshow(x_test[i].reshape(28,28), cmap=plt.cm.binary, interpolation='nearest')\n",
        "\n",
        "    ax = fig.add_subplot(n_img, 3, 3*i + 2, xticks=[0,1,2,3,4,5,6,7,8,9], yticks=[])\n",
        "    xbar = np.linspace(1, OUTPUT_DIMS, num=OUTPUT_DIMS)\n",
        "    ax.bar(xbar,musf[i],yerr=sigsf[i],xerr=0.3,)\n",
        "    #ax.bar(xbar,y_test_out[i],yerr=0,xerr=0.3,)\n",
        "    ax.axis('off')\n",
        "\n",
        "    ax = fig.add_subplot(n_img, 3, 3*i + 3, xticks=[0,1,2,3,4,5,6,7,8,9], yticks=[])\n",
        "    xbar = np.linspace(1, OUTPUT_DIMS, num=OUTPUT_DIMS)\n",
        "    ax.bar(xbar,y_test[i],yerr=0.0,xerr=0.3)\n",
        "    ax.axis('off')\n",
        "\n",
        "    #print(mus[i])\n",
        "    #print(sigs[i])\n",
        "    #print(pis[i])\n",
        "\n",
        "#print(\"Average error on probability = \",np.mean(sigs))    "
      ],
      "execution_count": null,
      "outputs": [
        {
          "output_type": "error",
          "ename": "NameError",
          "evalue": "ignored",
          "traceback": [
            "\u001b[0;31m---------------------------------------------------------------------------\u001b[0m",
            "\u001b[0;31mNameError\u001b[0m                                 Traceback (most recent call last)",
            "\u001b[0;32m<ipython-input-40-e7fd6176d55f>\u001b[0m in \u001b[0;36m<module>\u001b[0;34m()\u001b[0m\n\u001b[1;32m     16\u001b[0m     \u001b[0max\u001b[0m \u001b[0;34m=\u001b[0m \u001b[0mfig\u001b[0m\u001b[0;34m.\u001b[0m\u001b[0madd_subplot\u001b[0m\u001b[0;34m(\u001b[0m\u001b[0mn_img\u001b[0m\u001b[0;34m,\u001b[0m \u001b[0;36m3\u001b[0m\u001b[0;34m,\u001b[0m \u001b[0;36m3\u001b[0m\u001b[0;34m*\u001b[0m\u001b[0mi\u001b[0m \u001b[0;34m+\u001b[0m \u001b[0;36m2\u001b[0m\u001b[0;34m,\u001b[0m \u001b[0mxticks\u001b[0m\u001b[0;34m=\u001b[0m\u001b[0;34m[\u001b[0m\u001b[0;36m0\u001b[0m\u001b[0;34m,\u001b[0m\u001b[0;36m1\u001b[0m\u001b[0;34m,\u001b[0m\u001b[0;36m2\u001b[0m\u001b[0;34m,\u001b[0m\u001b[0;36m3\u001b[0m\u001b[0;34m,\u001b[0m\u001b[0;36m4\u001b[0m\u001b[0;34m,\u001b[0m\u001b[0;36m5\u001b[0m\u001b[0;34m,\u001b[0m\u001b[0;36m6\u001b[0m\u001b[0;34m,\u001b[0m\u001b[0;36m7\u001b[0m\u001b[0;34m,\u001b[0m\u001b[0;36m8\u001b[0m\u001b[0;34m,\u001b[0m\u001b[0;36m9\u001b[0m\u001b[0;34m]\u001b[0m\u001b[0;34m,\u001b[0m \u001b[0myticks\u001b[0m\u001b[0;34m=\u001b[0m\u001b[0;34m[\u001b[0m\u001b[0;34m]\u001b[0m\u001b[0;34m)\u001b[0m\u001b[0;34m\u001b[0m\u001b[0;34m\u001b[0m\u001b[0m\n\u001b[1;32m     17\u001b[0m     \u001b[0mxbar\u001b[0m \u001b[0;34m=\u001b[0m \u001b[0mnp\u001b[0m\u001b[0;34m.\u001b[0m\u001b[0mlinspace\u001b[0m\u001b[0;34m(\u001b[0m\u001b[0;36m1\u001b[0m\u001b[0;34m,\u001b[0m \u001b[0mOUTPUT_DIMS\u001b[0m\u001b[0;34m,\u001b[0m \u001b[0mnum\u001b[0m\u001b[0;34m=\u001b[0m\u001b[0mOUTPUT_DIMS\u001b[0m\u001b[0;34m)\u001b[0m\u001b[0;34m\u001b[0m\u001b[0;34m\u001b[0m\u001b[0m\n\u001b[0;32m---> 18\u001b[0;31m     \u001b[0max\u001b[0m\u001b[0;34m.\u001b[0m\u001b[0mbar\u001b[0m\u001b[0;34m(\u001b[0m\u001b[0mxbar\u001b[0m\u001b[0;34m,\u001b[0m\u001b[0mmusf\u001b[0m\u001b[0;34m[\u001b[0m\u001b[0mi\u001b[0m\u001b[0;34m]\u001b[0m\u001b[0;34m,\u001b[0m\u001b[0myerr\u001b[0m\u001b[0;34m=\u001b[0m\u001b[0msigsf\u001b[0m\u001b[0;34m[\u001b[0m\u001b[0mi\u001b[0m\u001b[0;34m]\u001b[0m\u001b[0;34m,\u001b[0m\u001b[0mxerr\u001b[0m\u001b[0;34m=\u001b[0m\u001b[0;36m0.3\u001b[0m\u001b[0;34m,\u001b[0m\u001b[0;34m)\u001b[0m\u001b[0;34m\u001b[0m\u001b[0;34m\u001b[0m\u001b[0m\n\u001b[0m\u001b[1;32m     19\u001b[0m     \u001b[0;31m#ax.bar(xbar,y_test_out[i],yerr=0,xerr=0.3,)\u001b[0m\u001b[0;34m\u001b[0m\u001b[0;34m\u001b[0m\u001b[0;34m\u001b[0m\u001b[0m\n\u001b[1;32m     20\u001b[0m     \u001b[0max\u001b[0m\u001b[0;34m.\u001b[0m\u001b[0maxis\u001b[0m\u001b[0;34m(\u001b[0m\u001b[0;34m'off'\u001b[0m\u001b[0;34m)\u001b[0m\u001b[0;34m\u001b[0m\u001b[0;34m\u001b[0m\u001b[0m\n",
            "\u001b[0;31mNameError\u001b[0m: name 'musf' is not defined"
          ]
        },
        {
          "output_type": "display_data",
          "data": {
            "image/png": "[encoded data removed]",
            "text/plain": [
              "<Figure size 576x2160 with 2 Axes>"
            ]
          },
          "metadata": {
            "tags": [],
            "needs_background": "light"
          }
        }
      ]
    },
    {
      "cell_type": "markdown",
      "metadata": {
        "id": "qHdFWasuK-Ww"
      },
      "source": [
        "# **Load fashion MNIST**"
      ]
    },
    {
      "cell_type": "code",
      "metadata": {
        "id": "c4I-TPptK80f"
      },
      "source": [
        "# Model / data parameters\n",
        "num_classes_f = 10\n",
        "input_shape = (28, 28, 1)\n",
        "\n",
        "# the data, split between train and test sets\n",
        "(xf_train, yf_train), (xf_test, yf_test) = keras.datasets.fashion_mnist.load_data()\n",
        "\n",
        "xf_train, yf_train, xf_test, yf_test = prepare_data(xf_train, yf_train, xf_test, yf_test, num_classes)"
      ],
      "execution_count": null,
      "outputs": []
    },
    {
      "cell_type": "markdown",
      "metadata": {
        "id": "SyLe7_XFMl9n"
      },
      "source": [
        "# **Test fashion MNIST using the network trained on digits**"
      ]
    },
    {
      "cell_type": "code",
      "metadata": {
        "id": "wqmirnW7MuWH"
      },
      "source": [
        "yf_test_out = model.predict(xf_test)\n"
      ],
      "execution_count": null,
      "outputs": []
    },
    {
      "cell_type": "code",
      "metadata": {
        "id": "wY6lVPBtNFVW"
      },
      "source": [
        "musf= y_test_out[:,: N_MIXES*OUTPUT_DIMS]\n",
        "\n",
        "sigsf = y_test_out[:,N_MIXES*OUTPUT_DIMS:2*N_MIXES*OUTPUT_DIMS]\n"
      ],
      "execution_count": null,
      "outputs": []
    },
    {
      "cell_type": "code",
      "metadata": {
        "colab": {
          "base_uri": "https://localhost:8080/",
          "height": 401
        },
        "id": "Tzt_t0_DNFVd",
        "outputId": "c6881b8f-f0fc-477f-e6c6-f8a8df549a0b"
      },
      "source": [
        "# use the model to predict the labels of the test data\n",
        "\n",
        "\n",
        "\n",
        "# Plot the prediction\n",
        "fig = plt.figure(figsize=(8, 30))  # figure size in inches\n",
        "fig.subplots_adjust(left=0, right=1, bottom=0, top=1, hspace=0.05, wspace=0.05)\n",
        "\n",
        "\n",
        "# plot the digits: each image is 28x28 pixels\n",
        "n_img=30\n",
        "for i in range(n_img):\n",
        "    ax = fig.add_subplot(n_img, 3, 3*i + 1, xticks=[], yticks=[])\n",
        "    ax.imshow(xf_test[i].reshape(28,28), cmap=plt.cm.binary, interpolation='nearest')\n",
        "\n",
        "    ax = fig.add_subplot(n_img, 3, 3*i + 2, xticks=[0,1,2,3,4,5,6,7,8,9], yticks=[])\n",
        "    xbar = np.linspace(1, OUTPUT_DIMS, num=OUTPUT_DIMS)\n",
        "    ax.bar(xbar,musf[i],yerr=sigsf[i],xerr=0.3)  #,yerr=sigsf[i]\n",
        "    ax.axis('off')\n",
        "\n",
        "    ax = fig.add_subplot(n_img, 3, 3*i + 3, xticks=[0,1,2,3,4,5,6,7,8,9], yticks=[])\n",
        "    xbar = np.linspace(1, OUTPUT_DIMS, num=OUTPUT_DIMS)\n",
        "    ax.bar(xbar,yf_test[i],yerr=0.0,xerr=0.3)\n",
        "    ax.axis('off')\n",
        "\n",
        "    \n",
        "\n",
        "#print(\"Average error on probability = \",np.mean(sigsf))    "
      ],
      "execution_count": null,
      "outputs": [
        {
          "output_type": "error",
          "ename": "IndexError",
          "evalue": "ignored",
          "traceback": [
            "\u001b[0;31m---------------------------------------------------------------------------\u001b[0m",
            "\u001b[0;31mIndexError\u001b[0m                                Traceback (most recent call last)",
            "\u001b[0;32m<ipython-input-43-4ded44fb8f78>\u001b[0m in \u001b[0;36m<module>\u001b[0;34m()\u001b[0m\n\u001b[1;32m     16\u001b[0m     \u001b[0max\u001b[0m \u001b[0;34m=\u001b[0m \u001b[0mfig\u001b[0m\u001b[0;34m.\u001b[0m\u001b[0madd_subplot\u001b[0m\u001b[0;34m(\u001b[0m\u001b[0mn_img\u001b[0m\u001b[0;34m,\u001b[0m \u001b[0;36m3\u001b[0m\u001b[0;34m,\u001b[0m \u001b[0;36m3\u001b[0m\u001b[0;34m*\u001b[0m\u001b[0mi\u001b[0m \u001b[0;34m+\u001b[0m \u001b[0;36m2\u001b[0m\u001b[0;34m,\u001b[0m \u001b[0mxticks\u001b[0m\u001b[0;34m=\u001b[0m\u001b[0;34m[\u001b[0m\u001b[0;36m0\u001b[0m\u001b[0;34m,\u001b[0m\u001b[0;36m1\u001b[0m\u001b[0;34m,\u001b[0m\u001b[0;36m2\u001b[0m\u001b[0;34m,\u001b[0m\u001b[0;36m3\u001b[0m\u001b[0;34m,\u001b[0m\u001b[0;36m4\u001b[0m\u001b[0;34m,\u001b[0m\u001b[0;36m5\u001b[0m\u001b[0;34m,\u001b[0m\u001b[0;36m6\u001b[0m\u001b[0;34m,\u001b[0m\u001b[0;36m7\u001b[0m\u001b[0;34m,\u001b[0m\u001b[0;36m8\u001b[0m\u001b[0;34m,\u001b[0m\u001b[0;36m9\u001b[0m\u001b[0;34m]\u001b[0m\u001b[0;34m,\u001b[0m \u001b[0myticks\u001b[0m\u001b[0;34m=\u001b[0m\u001b[0;34m[\u001b[0m\u001b[0;34m]\u001b[0m\u001b[0;34m)\u001b[0m\u001b[0;34m\u001b[0m\u001b[0;34m\u001b[0m\u001b[0m\n\u001b[1;32m     17\u001b[0m     \u001b[0mxbar\u001b[0m \u001b[0;34m=\u001b[0m \u001b[0mnp\u001b[0m\u001b[0;34m.\u001b[0m\u001b[0mlinspace\u001b[0m\u001b[0;34m(\u001b[0m\u001b[0;36m1\u001b[0m\u001b[0;34m,\u001b[0m \u001b[0mOUTPUT_DIMS\u001b[0m\u001b[0;34m,\u001b[0m \u001b[0mnum\u001b[0m\u001b[0;34m=\u001b[0m\u001b[0mOUTPUT_DIMS\u001b[0m\u001b[0;34m)\u001b[0m\u001b[0;34m\u001b[0m\u001b[0;34m\u001b[0m\u001b[0m\n\u001b[0;32m---> 18\u001b[0;31m     \u001b[0max\u001b[0m\u001b[0;34m.\u001b[0m\u001b[0mbar\u001b[0m\u001b[0;34m(\u001b[0m\u001b[0mxbar\u001b[0m\u001b[0;34m,\u001b[0m\u001b[0mmusf\u001b[0m\u001b[0;34m[\u001b[0m\u001b[0mi\u001b[0m\u001b[0;34m]\u001b[0m\u001b[0;34m,\u001b[0m\u001b[0myerr\u001b[0m\u001b[0;34m=\u001b[0m\u001b[0msigsf\u001b[0m\u001b[0;34m[\u001b[0m\u001b[0mi\u001b[0m\u001b[0;34m]\u001b[0m\u001b[0;34m,\u001b[0m\u001b[0mxerr\u001b[0m\u001b[0;34m=\u001b[0m\u001b[0;36m0.3\u001b[0m\u001b[0;34m)\u001b[0m  \u001b[0;31m#,yerr=sigsf[i]\u001b[0m\u001b[0;34m\u001b[0m\u001b[0;34m\u001b[0m\u001b[0m\n\u001b[0m\u001b[1;32m     19\u001b[0m     \u001b[0max\u001b[0m\u001b[0;34m.\u001b[0m\u001b[0maxis\u001b[0m\u001b[0;34m(\u001b[0m\u001b[0;34m'off'\u001b[0m\u001b[0;34m)\u001b[0m\u001b[0;34m\u001b[0m\u001b[0;34m\u001b[0m\u001b[0m\n\u001b[1;32m     20\u001b[0m \u001b[0;34m\u001b[0m\u001b[0m\n",
            "\u001b[0;31mIndexError\u001b[0m: index 1 is out of bounds for axis 0 with size 1"
          ]
        },
        {
          "output_type": "display_data",
          "data": {
            "image/png": "[encoded data removed]",
            "text/plain": [
              "<Figure size 576x2160 with 5 Axes>"
            ]
          },
          "metadata": {
            "tags": [],
            "needs_background": "light"
          }
        }
      ]
    }
  ]
}