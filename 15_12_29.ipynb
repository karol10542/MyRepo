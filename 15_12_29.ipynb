{
  "nbformat": 4,
  "nbformat_minor": 0,
  "metadata": {
    "colab": {
      "name": "15_12_29.ipynb",
      "provenance": [],
      "authorship_tag": "ABX9TyOaYDL2HLYHVy3BududqtDl",
      "include_colab_link": true
    },
    "kernelspec": {
      "name": "python3",
      "display_name": "Python 3"
    }
  },
  "cells": [
    {
      "cell_type": "markdown",
      "metadata": {
        "id": "view-in-github",
        "colab_type": "text"
      },
      "source": [
        "<a href=\"https://colab.research.google.com/github/karol10542/MyRepo/blob/main/15_12_29.ipynb\" target=\"_parent\"><img src=\"https://colab.research.google.com/assets/colab-badge.svg\" alt=\"Open In Colab\"/></a>"
      ]
    },
    {
      "cell_type": "code",
      "metadata": {
        "colab": {
          "base_uri": "https://localhost:8080/"
        },
        "id": "SFGMthS59SQN",
        "outputId": "a291339d-39ed-4787-8c37-664a54789bb2"
      },
      "source": [
        "'''Trains a simple deep NN on the MNIST dataset.\r\n",
        "\r\n",
        "Gets to 99.6% test accuracy after 40 epochs\r\n",
        "(there is *a lot* of margin for parameter tuning).\r\n",
        "2 seconds per epoch on a K520 GPU.\r\n",
        "'''\r\n",
        "\r\n",
        "from __future__ import print_function\r\n",
        "\r\n",
        "import matplotlib.pyplot as plt\r\n",
        "import numpy as np\r\n",
        "\r\n",
        "import keras\r\n",
        "from keras.datasets import mnist\r\n",
        "from keras.models import Sequential\r\n",
        "from keras.layers import Dense, Dropout, Flatten\r\n",
        "from keras.layers import Conv2D, MaxPooling2D\r\n",
        "from keras import backend as K\r\n",
        "from keras.optimizers import RMSprop, Adam, Adadelta\r\n",
        "\r\n",
        "from keras.utils.vis_utils import plot_model\r\n",
        "from IPython.display import Image \r\n",
        "from keras.preprocessing.image import ImageDataGenerator\r\n",
        "\r\n",
        "from keras.callbacks import EarlyStopping\r\n",
        "\r\n",
        "# install optuna\r\n",
        "! pip install optuna\r\n",
        "\r\n",
        "import optuna\r\n",
        "\r\n",
        "\r\n",
        "batch_size = 128\r\n",
        "num_classes = 10\r\n",
        "epochs = 50\r\n",
        "\r\n",
        "# input image dimensions\r\n",
        "img_rows, img_cols = 28, 28\r\n",
        "\r\n",
        "# the data, split between train and test sets\r\n",
        "(x_train, y_train0), (x_test, y_test0) = mnist.load_data()\r\n",
        "\r\n",
        "if K.image_data_format() == 'channels_first':\r\n",
        "    x_train = x_train.reshape(x_train.shape[0], 1, img_rows, img_cols)\r\n",
        "    x_test = x_test.reshape(x_test.shape[0], 1, img_rows, img_cols)\r\n",
        "    input_shape = (1, img_rows, img_cols)\r\n",
        "else:\r\n",
        "    x_train = x_train.reshape(x_train.shape[0], img_rows, img_cols, 1)\r\n",
        "    x_test = x_test.reshape(x_test.shape[0], img_rows, img_cols, 1)\r\n",
        "    input_shape = (img_rows, img_cols, 1)\r\n",
        "\r\n",
        "\r\n",
        "\r\n",
        "x_train = x_train.astype('float32')\r\n",
        "x_test = x_test.astype('float32')\r\n",
        "x_train /= 255\r\n",
        "x_test /= 255\r\n",
        "print(x_train.shape[0], 'train samples')\r\n",
        "print(x_test.shape[0], 'test samples')\r\n",
        "\r\n",
        "# convert class vectors to binary class matrices\r\n",
        "y_train = keras.utils.to_categorical(y_train0, num_classes)\r\n",
        "y_test = keras.utils.to_categorical(y_test0, num_classes)"
      ],
      "execution_count": 1,
      "outputs": [
        {
          "output_type": "stream",
          "text": [
            "Requirement already satisfied: optuna in /usr/local/lib/python3.6/dist-packages (2.4.0)\n",
            "Requirement already satisfied: alembic in /usr/local/lib/python3.6/dist-packages (from optuna) (1.5.1)\n",
            "Requirement already satisfied: colorlog in /usr/local/lib/python3.6/dist-packages (from optuna) (4.7.2)\n",
            "Requirement already satisfied: joblib in /usr/local/lib/python3.6/dist-packages (from optuna) (1.0.0)\n",
            "Requirement already satisfied: packaging>=20.0 in /usr/local/lib/python3.6/dist-packages (from optuna) (20.8)\n",
            "Requirement already satisfied: sqlalchemy>=1.1.0 in /usr/local/lib/python3.6/dist-packages (from optuna) (1.3.22)\n",
            "Requirement already satisfied: cliff in /usr/local/lib/python3.6/dist-packages (from optuna) (3.6.0)\n",
            "Requirement already satisfied: cmaes>=0.6.0 in /usr/local/lib/python3.6/dist-packages (from optuna) (0.7.0)\n",
            "Requirement already satisfied: scipy!=1.4.0 in /usr/local/lib/python3.6/dist-packages (from optuna) (1.4.1)\n",
            "Requirement already satisfied: tqdm in /usr/local/lib/python3.6/dist-packages (from optuna) (4.41.1)\n",
            "Requirement already satisfied: numpy in /usr/local/lib/python3.6/dist-packages (from optuna) (1.19.5)\n",
            "Requirement already satisfied: Mako in /usr/local/lib/python3.6/dist-packages (from alembic->optuna) (1.1.4)\n",
            "Requirement already satisfied: python-editor>=0.3 in /usr/local/lib/python3.6/dist-packages (from alembic->optuna) (1.0.4)\n",
            "Requirement already satisfied: python-dateutil in /usr/local/lib/python3.6/dist-packages (from alembic->optuna) (2.8.1)\n",
            "Requirement already satisfied: pyparsing>=2.0.2 in /usr/local/lib/python3.6/dist-packages (from packaging>=20.0->optuna) (2.4.7)\n",
            "Requirement already satisfied: stevedore>=2.0.1 in /usr/local/lib/python3.6/dist-packages (from cliff->optuna) (3.3.0)\n",
            "Requirement already satisfied: PrettyTable<0.8,>=0.7.2 in /usr/local/lib/python3.6/dist-packages (from cliff->optuna) (0.7.2)\n",
            "Requirement already satisfied: pbr!=2.1.0,>=2.0.0 in /usr/local/lib/python3.6/dist-packages (from cliff->optuna) (5.5.1)\n",
            "Requirement already satisfied: PyYAML>=3.12 in /usr/local/lib/python3.6/dist-packages (from cliff->optuna) (3.13)\n",
            "Requirement already satisfied: cmd2!=0.8.3,>=0.8.0 in /usr/local/lib/python3.6/dist-packages (from cliff->optuna) (1.4.0)\n",
            "Requirement already satisfied: MarkupSafe>=0.9.2 in /usr/local/lib/python3.6/dist-packages (from Mako->alembic->optuna) (1.1.1)\n",
            "Requirement already satisfied: six>=1.5 in /usr/local/lib/python3.6/dist-packages (from python-dateutil->alembic->optuna) (1.15.0)\n",
            "Requirement already satisfied: importlib-metadata>=1.7.0; python_version < \"3.8\" in /usr/local/lib/python3.6/dist-packages (from stevedore>=2.0.1->cliff->optuna) (3.3.0)\n",
            "Requirement already satisfied: colorama>=0.3.7 in /usr/local/lib/python3.6/dist-packages (from cmd2!=0.8.3,>=0.8.0->cliff->optuna) (0.4.4)\n",
            "Requirement already satisfied: attrs>=16.3.0 in /usr/local/lib/python3.6/dist-packages (from cmd2!=0.8.3,>=0.8.0->cliff->optuna) (20.3.0)\n",
            "Requirement already satisfied: wcwidth>=0.1.7 in /usr/local/lib/python3.6/dist-packages (from cmd2!=0.8.3,>=0.8.0->cliff->optuna) (0.2.5)\n",
            "Requirement already satisfied: pyperclip>=1.6 in /usr/local/lib/python3.6/dist-packages (from cmd2!=0.8.3,>=0.8.0->cliff->optuna) (1.8.1)\n",
            "Requirement already satisfied: typing-extensions>=3.6.4; python_version < \"3.8\" in /usr/local/lib/python3.6/dist-packages (from importlib-metadata>=1.7.0; python_version < \"3.8\"->stevedore>=2.0.1->cliff->optuna) (3.7.4.3)\n",
            "Requirement already satisfied: zipp>=0.5 in /usr/local/lib/python3.6/dist-packages (from importlib-metadata>=1.7.0; python_version < \"3.8\"->stevedore>=2.0.1->cliff->optuna) (3.4.0)\n",
            "60000 train samples\n",
            "10000 test samples\n"
          ],
          "name": "stdout"
        }
      ]
    },
    {
      "cell_type": "code",
      "metadata": {
        "id": "-qmFi_8m9Vf1"
      },
      "source": [
        "N_TRAIN_EXAMPLES = 1000 #3000\r\n",
        "N_TEST_EXAMPLES = 10000\r\n",
        "x_train = x_train[:N_TRAIN_EXAMPLES]\r\n",
        "x_test = x_test[:N_TEST_EXAMPLES]\r\n",
        "y_train = y_train[:N_TRAIN_EXAMPLES]\r\n",
        "y_test = y_test[:N_TEST_EXAMPLES]"
      ],
      "execution_count": 2,
      "outputs": []
    },
    {
      "cell_type": "code",
      "metadata": {
        "id": "-Eser8T29cnh"
      },
      "source": [
        "def c_model():\r\n",
        "  # Our old fully connected (dense) network\r\n",
        "  #model = Sequential()\r\n",
        "  #model.add(Dense(512, activation='relu', input_shape=(784,)))\r\n",
        "  #model.add(Dropout(0.2))\r\n",
        "  #model.add(Dense(512, activation='relu'))\r\n",
        "  #model.add(Dropout(0.2))\r\n",
        "  #model.add(Dense(512, activation='relu'))\r\n",
        "  #model.add(Dropout(0.2))\r\n",
        "  #model.add(Dense(num_classes, activation='softmax'))\r\n",
        "  model = Sequential()\r\n",
        "  model.add(Conv2D(32, kernel_size=(3, 3),\r\n",
        "                 activation='relu',\r\n",
        "                 input_shape=input_shape))\r\n",
        "  model.add(Conv2D(64, (3, 3), activation='relu'))\r\n",
        "  model.add(MaxPooling2D(pool_size=(2, 2)))\r\n",
        "  model.add(Dropout(0.25))\r\n",
        "  model.add(Conv2D(64, kernel_size=(3, 3),\r\n",
        "                 activation='relu',\r\n",
        "                 input_shape=input_shape))\r\n",
        "  model.add(Conv2D(64, (3, 3), activation='relu'))\r\n",
        "  model.add(MaxPooling2D(pool_size=(2, 2)))\r\n",
        "  model.add(Dropout(0.25))\r\n",
        "  model.add(Flatten())\r\n",
        "  model.add(Dense(128, activation='relu'))\r\n",
        "  model.add(Dropout(0.5))\r\n",
        "  model.add(Dense(num_classes, activation='softmax'))\r\n",
        "\r\n",
        "  return model"
      ],
      "execution_count": 3,
      "outputs": []
    },
    {
      "cell_type": "code",
      "metadata": {
        "id": "QYm0sop99fXw"
      },
      "source": [
        "def objective(trial):\r\n",
        "  \r\n",
        "  rotation_range=trial.suggest_uniform('rotation_range', .00,30)\r\n",
        "  zoom_range=trial.suggest_uniform('zoom_range', .00,0.30)\r\n",
        "  shift_range=trial.suggest_uniform('shift_range', .00,0.20)\r\n",
        "  \r\n",
        "  datagen = ImageDataGenerator( \r\n",
        "    rotation_range=rotation_range,\r\n",
        "    width_shift_range=shift_range,\r\n",
        "    height_shift_range=shift_range,\r\n",
        "    zoom_range=zoom_range\r\n",
        "    )\r\n",
        "\r\n",
        "  model = c_model()\r\n",
        "\r\n",
        "  from keras.callbacks import EarlyStopping\r\n",
        "\r\n",
        "  model.compile(loss='categorical_crossentropy',\r\n",
        "              optimizer=\"adam\",\r\n",
        "              metrics=['accuracy'])\r\n",
        "  \r\n",
        "  e_s=EarlyStopping(monitor='val_accuracy', patience=12, verbose=1)\r\n",
        "\r\n",
        "  history = model.fit(datagen.flow(x_train, y_train,\r\n",
        "                    batch_size=batch_size),\r\n",
        "                    epochs=epochs,\r\n",
        "                    batch_size=batch_size,\r\n",
        "                    verbose=0,\r\n",
        "                    validation_data=(x_test, y_test), \r\n",
        "                    callbacks=[e_s])\r\n",
        "\r\n",
        "  score = model.evaluate(x_test, y_test,verbose=0)\r\n",
        "\r\n",
        "  return score[1]"
      ],
      "execution_count": 4,
      "outputs": []
    },
    {
      "cell_type": "code",
      "metadata": {
        "colab": {
          "base_uri": "https://localhost:8080/"
        },
        "id": "Gem2I8i09js_",
        "outputId": "e65deb27-8117-48dc-8ba8-7456d5c647f2"
      },
      "source": [
        "study = optuna.create_study(direction='maximize', pruner=optuna.pruners.MedianPruner(), sampler=optuna.samplers.TPESampler() )\r\n",
        "study.optimize(objective, n_trials=30, timeout=1200)"
      ],
      "execution_count": null,
      "outputs": [
        {
          "output_type": "stream",
          "text": [
            "\u001b[32m[I 2021-01-19 18:47:55,348]\u001b[0m A new study created in memory with name: no-name-c65e2b40-4af0-4150-833f-c3f35596ddfe\u001b[0m\n",
            "\u001b[32m[I 2021-01-19 18:55:45,233]\u001b[0m Trial 0 finished with value: 0.9607999920845032 and parameters: {'rotation_range': 14.41924146894856, 'zoom_range': 0.10849433137347543, 'shift_range': 0.1868998769951664}. Best is trial 0 with value: 0.9607999920845032.\u001b[0m\n"
          ],
          "name": "stderr"
        }
      ]
    },
    {
      "cell_type": "code",
      "metadata": {
        "id": "1G9ZcFHh9nOa"
      },
      "source": [
        "print(\"Number trials: {}\".format(len(study.trials)))\r\n",
        "print(\"Best trial:\")\r\n",
        "trial=study.best_trial\r\n",
        "print(\"Value: {}\".format(trial.value))\r\n",
        "print(\"Params\")\r\n",
        "for key, value in trial.params.items():\r\n",
        "  print(\"  {}:{}  \".format(key, value))"
      ],
      "execution_count": null,
      "outputs": []
    },
    {
      "cell_type": "code",
      "metadata": {
        "id": "RpCBU84394mQ"
      },
      "source": [
        "rotation_range=trial.params.get('rotation_range')\r\n",
        "zoom_range=trial.params.get('zoom_range')\r\n",
        "shift_range=trial.params.get('shift_range')\r\n",
        "\r\n",
        "  \r\n",
        "datagen = ImageDataGenerator( \r\n",
        "    rotation_range=rotation_range,\r\n",
        "    width_shift_range=shift_range,\r\n",
        "    height_shift_range=shift_range,\r\n",
        "    zoom_range=zoom_range\r\n",
        "    )\r\n",
        "\r\n",
        "model = c_model()\r\n",
        "\r\n",
        "from keras.callbacks import EarlyStopping\r\n",
        "\r\n",
        "model.compile(loss='categorical_crossentropy',\r\n",
        "              optimizer=\"adam\",\r\n",
        "              metrics=['accuracy'])\r\n",
        "\r\n",
        "e_s=EarlyStopping(monitor='val_accuracy',patience=12,verbose=1)\r\n",
        "\r\n",
        "history = model.fit(datagen.flow(x_train, y_train,\r\n",
        "                    batch_size=batch_size),\r\n",
        "                    epochs=epochs,\r\n",
        "                    batch_size=batch_size,\r\n",
        "                    verbose=1,\r\n",
        "                    validation_data=(x_test, y_test),\r\n",
        "                    callbacks=[e_s])"
      ],
      "execution_count": null,
      "outputs": []
    },
    {
      "cell_type": "code",
      "metadata": {
        "id": "MplVwR6E952J"
      },
      "source": [
        "# Plots for training and testing process: loss and accuracy\r\n",
        "\r\n",
        "n_epochs = len(history.history['loss'])\r\n",
        "\r\n",
        "plt.figure(0)\r\n",
        "plt.plot(history.history['accuracy'],'r')\r\n",
        "plt.plot(history.history['val_accuracy'],'g')\r\n",
        "plt.xticks(np.arange(0, n_epochs, 10.0))\r\n",
        "plt.rcParams['figure.figsize'] = (8, 6)\r\n",
        "plt.xlabel(\"Num of Epochs\")\r\n",
        "plt.ylabel(\"Accuracy\")\r\n",
        "plt.title(\"Training Cat_Accuracy vs Validation Cat_Accuracy\")\r\n",
        "plt.legend(['train','validation'])"
      ],
      "execution_count": null,
      "outputs": []
    },
    {
      "cell_type": "code",
      "metadata": {
        "id": "7oQ2Dv5-9-Ip"
      },
      "source": [
        "plt.figure(1)\r\n",
        "plt.plot(history.history['loss'],'r')\r\n",
        "plt.plot(history.history['val_loss'],'g')\r\n",
        "plt.xticks(np.arange(0, n_epochs, 10.0))\r\n",
        "plt.rcParams['figure.figsize'] = (8, 6)\r\n",
        "plt.xlabel(\"Num of Epochs\")\r\n",
        "plt.ylabel(\"Loss\")\r\n",
        "plt.title(\"Training Loss vs Validation Loss\")\r\n",
        "plt.legend(['train','validation'])\r\n",
        "plt.show()"
      ],
      "execution_count": null,
      "outputs": []
    },
    {
      "cell_type": "code",
      "metadata": {
        "id": "1IyVcX_M-BFp"
      },
      "source": [
        "print(x_train.reshape((len(x_train),img_rows, img_cols)).shape)\r\n",
        "# see example augmentation images\r\n",
        "fig = plt.figure(figsize=(12, 12))\r\n",
        "for X_batch, y_batch in datagen.flow(x_train, y_train, batch_size=9):\r\n",
        "    for i in range(0, 9):\r\n",
        "         plt.subplot(330 + 1 + i)\r\n",
        "         plt.imshow(X_batch[i].reshape((img_rows, img_cols)))\r\n",
        "         plt.axis('off')\r\n",
        "    plt.show()\r\n",
        "    break"
      ],
      "execution_count": null,
      "outputs": []
    },
    {
      "cell_type": "code",
      "metadata": {
        "id": "0Zm4FOdy-C3p"
      },
      "source": [
        "# see example augmentation images\r\n",
        "fig = plt.figure(figsize=(12, 12))\r\n",
        "\r\n",
        "for i in range(0, 25):\r\n",
        "    for X_batch, y_batch in datagen.flow(x_train[4:6], y_train[4:6], batch_size=1, shuffle=False):\r\n",
        "         plt.subplot(5,5,i+1)\r\n",
        "         plt.imshow(X_batch[0].reshape((img_rows, img_cols)), cmap=plt.cm.binary, interpolation='nearest')\r\n",
        "         plt.axis('off')\r\n",
        "         break\r\n",
        "\r\n",
        "plt.show()"
      ],
      "execution_count": null,
      "outputs": []
    },
    {
      "cell_type": "code",
      "metadata": {
        "id": "FM3B-XSi-EVF"
      },
      "source": [
        "#visualize the digits\r\n",
        "fig = plt.figure(figsize=(10, 10)) # figure size in inches\r\n",
        "fig.subplots_adjust(left=0, right=1, bottom=0, top=1, hspace=0.05, wspace=0.05)\r\n",
        "# generate augmented plot\r\n",
        "X_train, Y_train = datagen.flow(x_train,y_train, batch_size=100).next()\r\n",
        "for i in range(100):\r\n",
        "  ax = fig.add_subplot(10, 10, i + 1, xticks=[], yticks=[])\r\n",
        "  ax.imshow(X_train[i].reshape(img_rows, img_cols), cmap=plt.cm.binary, interpolation='nearest')\r\n",
        "  # label the image with the target value\r\n",
        "  ax.text(0, 7, str(np.argmax(Y_train[i])))"
      ],
      "execution_count": null,
      "outputs": []
    },
    {
      "cell_type": "code",
      "metadata": {
        "id": "x6L7Cqts-GAv"
      },
      "source": [
        "# evaluate loaded model\r\n",
        "scores_train = model.evaluate(x_train, y_train, verbose=0)\r\n",
        "scores_test  = model.evaluate(x_test,  y_test,  verbose=0)\r\n",
        "\r\n",
        "print(\"Accuracy Train: %.2f%% , Test: %.2f%% \" % (scores_train[1]*100, scores_test[1]*100 ))"
      ],
      "execution_count": null,
      "outputs": []
    },
    {
      "cell_type": "code",
      "metadata": {
        "id": "ncvrbJ7w-Ikd"
      },
      "source": [
        "\r\n",
        "from sklearn.metrics import classification_report, confusion_matrix\r\n",
        "Y_pred = model.predict(x_test, verbose=2)\r\n",
        "\r\n",
        "y_pred = np.argmax(Y_pred, axis=1)\r\n",
        "\r\n",
        "y_test2 = np.argmax(y_test, axis=1)\r\n",
        "\r\n",
        "\r\n",
        "\r\n",
        "#confusion matrix\r\n",
        "cm = confusion_matrix(np.argmax(y_test,axis=1),y_pred)\r\n",
        "print(cm)"
      ],
      "execution_count": null,
      "outputs": []
    },
    {
      "cell_type": "code",
      "metadata": {
        "id": "159dR9Gk-Kkj"
      },
      "source": [
        "# Visualizing of confusion matrix\r\n",
        "import seaborn as sn\r\n",
        "import pandas  as pd\r\n",
        "\r\n",
        "\r\n",
        "df_cm = pd.DataFrame(cm, range(10),range(10))\r\n",
        "#                     range(num_classes),\r\n",
        "#                  range(num_classes))\r\n",
        "#plt.figure(figsize = (10,7))\r\n",
        "plt.figure(2,figsize = (15,15) )\r\n",
        "sn.set(font_scale=1.4) #for label size\r\n",
        "sn.heatmap(df_cm, annot=True,annot_kws={\"size\": 12})# font size\r\n",
        "plt.show()"
      ],
      "execution_count": null,
      "outputs": []
    },
    {
      "cell_type": "code",
      "metadata": {
        "id": "2VEwnfzj-MU7"
      },
      "source": [
        "# use the model to predict the labels of the test data\r\n",
        "predicted = model.predict(x_test)\r\n",
        "expected = y_test0\r\n",
        "\r\n",
        "\r\n",
        "\r\n",
        "# Plot the prediction\r\n",
        "fig = plt.figure(figsize=(20, 20))  # figure size in inches\r\n",
        "fig.subplots_adjust(left=0, right=1, bottom=0, top=1, hspace=0.05, wspace=0.05)\r\n",
        "\r\n",
        "\r\n",
        "# plot the digits: each image is 28x28 pixels\r\n",
        "for i in range(400):\r\n",
        "    ax = fig.add_subplot(20, 20, i + 1, xticks=[], yticks=[])\r\n",
        "    ax.imshow(x_test[i].reshape(img_rows, img_cols), cmap=plt.cm.binary, interpolation='nearest')\r\n",
        "\r\n",
        "    # label the image with the target value\r\n",
        "    if np.argmax(predicted[i]) == expected[i]:\r\n",
        "        ax.text(0, 7, str(expected[i])+\" \"+str(np.argmax(predicted[i])), color='green')\r\n",
        "    else:\r\n",
        "        ax.text(0, 7, str(expected[i])+\" \"+str(np.argmax(predicted[i])), color='red')"
      ],
      "execution_count": null,
      "outputs": []
    },
    {
      "cell_type": "code",
      "metadata": {
        "id": "K0Rmoeo6-OkS"
      },
      "source": [
        "\r\n",
        "! pip3 install keras-visualizer\r\n",
        "from keras_visualizer import visualizer  \r\n",
        "\r\n",
        "#create the graph.png image\r\n",
        "visualizer(model=model, view=True, format='png', filename='graph')\r\n",
        "\r\n",
        "#show the graph\r\n",
        "import matplotlib.image as mpimg\r\n",
        "img = mpimg.imread('graph.png')\r\n",
        "imgplot = plt.imshow(img,)\r\n",
        "plt.show()"
      ],
      "execution_count": null,
      "outputs": []
    },
    {
      "cell_type": "code",
      "metadata": {
        "id": "cgVRObg_-Q65"
      },
      "source": [
        ""
      ],
      "execution_count": null,
      "outputs": []
    }
  ]
}