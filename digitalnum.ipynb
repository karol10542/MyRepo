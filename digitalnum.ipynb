{
  "nbformat": 4,
  "nbformat_minor": 0,
  "metadata": {
    "colab": {
      "name": "Untitled6.ipynb",
      "provenance": [],
      "authorship_tag": "ABX9TyMBkvG8OujAYwtKXTuLOoPx",
      "include_colab_link": true
    },
    "kernelspec": {
      "name": "python3",
      "display_name": "Python 3"
    }
  },
  "cells": [
    {
      "cell_type": "markdown",
      "metadata": {
        "id": "view-in-github",
        "colab_type": "text"
      },
      "source": [
        "<a href=\"https://colab.research.google.com/github/karol10542/MyRepo/blob/main/digitalnum.ipynb\" target=\"_parent\"><img src=\"https://colab.research.google.com/assets/colab-badge.svg\" alt=\"Open In Colab\"/></a>"
      ]
    },
    {
      "cell_type": "code",
      "metadata": {
        "id": "PWBN9sKLPNZ-"
      },
      "source": [
        "import matplotlib.pyplot as plt\n",
        "import numpy as np\n",
        "\n",
        "import keras\n",
        "#duza baza mnist z odrecznie pisanymi cyframi do uczenia\n",
        "from keras.datasets import mnist\n",
        "#architektura sekwenyjna warstw\n",
        "from keras.models import Sequential\n",
        "from keras.layers import Dense,Dropout\n",
        "from keras.optimizers import  RMSprop, Adam"
      ],
      "execution_count": 2,
      "outputs": []
    },
    {
      "cell_type": "code",
      "metadata": {
        "id": "cfMPSHYBQxAg"
      },
      "source": [
        "#teraz przygotowujemy dane\n",
        "(x_train,y_train),(x_test,y_test) = mnist.load_data()\n"
      ],
      "execution_count": 6,
      "outputs": []
    },
    {
      "cell_type": "code",
      "metadata": {
        "id": "yd4k-HejRTdv"
      },
      "source": [
        "#tworzymy tablice o ksztalcie (6000,784)\n",
        "x_train = x_train.reshape(60000,784)\n",
        "x_test= x_test.reshape(10000,784)\n",
        "\n",
        "#convert to float32\n",
        "x_train=x_train.astype('float32')\n",
        "x_test = x_test.astype('float32')\n",
        "\n",
        "#normlaizeto one\n",
        "x_train /=255\n",
        "x_test /=255\n"
      ],
      "execution_count": 8,
      "outputs": []
    },
    {
      "cell_type": "code",
      "metadata": {
        "colab": {
          "base_uri": "https://localhost:8080/"
        },
        "id": "yu39BYFbSQrP",
        "outputId": "c7f30d63-cc2e-4255-c8fc-198f9a014bf5"
      },
      "source": [
        "#chcemy przeksztalic tak aby kazda z liczb odpowiadala na wektorze np 7>> (0,0,0,0,0,0,1,0) 0>> (1,0,0,0,0,0,0,0,0)\n",
        "print(x_train.shape[0], 'train samples')\n",
        "print(x_test.shape[0], 'train samples')\n",
        "\n",
        "num_classes = 10\n",
        "#konwertujemy klasy wektorow na binarne\n",
        "y_train = keras.utils.to_categorical(y_train,num_classes)\n",
        "y_test = keras.utils.to_categorical(y_test,num_classes)"
      ],
      "execution_count": 11,
      "outputs": [
        {
          "output_type": "stream",
          "text": [
            "60000 train samples\n",
            "10000 train samples\n"
          ],
          "name": "stdout"
        }
      ]
    },
    {
      "cell_type": "code",
      "metadata": {
        "colab": {
          "base_uri": "https://localhost:8080/"
        },
        "id": "C5b2_T3lS-We",
        "outputId": "dc21e4a5-eb2d-4d36-cfc1-5c4a4502aa1f"
      },
      "source": [
        "#model sieci definijemy jako sekwencje warstw\n",
        "#funkcja aktywacji relu\n",
        "model = Sequential()\n",
        "model.add(Dense(512,activation='relu',input_shape=(784,))) # w pełni połączone warstwy są definiowane za pomoca klasy Dense. Mozemy okrelsic liczbe neuronow \n",
        "model.add(Dropout(0.2)) #dropout miedzy warstawami ma zapobiec przetrenowaniu.  Polega na losowym ustawieniu pewnej liczby wyjsc na 0 przy kazdej aktualizacji w czasie trningu\n",
        "model.add(Dense(512,activation='relu'))\n",
        "model.add(Dropout(0.2))\n",
        "model.add(Dense(512,activation='relu'))\n",
        "model.add(Dense(num_classes,activation='softmax')) #uzywamy softmax aby zapewnic ze wartosc bedzie w zakresie od 0 do 1 i jest latwe do zmapowania\n",
        "\n",
        "model.summary() #wypisuje strukture sieci"
      ],
      "execution_count": 15,
      "outputs": [
        {
          "output_type": "stream",
          "text": [
            "Model: \"sequential_3\"\n",
            "_________________________________________________________________\n",
            "Layer (type)                 Output Shape              Param #   \n",
            "=================================================================\n",
            "dense_8 (Dense)              (None, 512)               401920    \n",
            "_________________________________________________________________\n",
            "dropout_2 (Dropout)          (None, 512)               0         \n",
            "_________________________________________________________________\n",
            "dense_9 (Dense)              (None, 512)               262656    \n",
            "_________________________________________________________________\n",
            "dropout_3 (Dropout)          (None, 512)               0         \n",
            "_________________________________________________________________\n",
            "dense_10 (Dense)             (None, 512)               262656    \n",
            "_________________________________________________________________\n",
            "dense_11 (Dense)             (None, 10)                5130      \n",
            "=================================================================\n",
            "Total params: 932,362\n",
            "Trainable params: 932,362\n",
            "Non-trainable params: 0\n",
            "_________________________________________________________________\n"
          ],
          "name": "stdout"
        }
      ]
    },
    {
      "cell_type": "code",
      "metadata": {
        "id": "fQav8rGCUV3p"
      },
      "source": [
        "#kompilacja sieci polega na dobraniu odpowiednich wag do mapowania danych wejsciowych na dane wyjsciowe\n",
        "model.compile(loss='categorical_crossentropy',optimizer=RMSprop(),metrics=['accuracy']) #optymaliztor jako wydajny  nazywamy RMSprop lub adam."
      ],
      "execution_count": 19,
      "outputs": []
    },
    {
      "cell_type": "code",
      "metadata": {
        "colab": {
          "base_uri": "https://localhost:8080/"
        },
        "id": "QpQnRIJ8WouO",
        "outputId": "fae9bbac-070b-4239-e448-55f18f381907"
      },
      "source": [
        "#TRENING SIECI\n",
        "batch_size = 128 # co najmniej jedna proka brana pod uwage przez model w okresie przed update wag\n",
        "epochs = 10 #jeden przebieg przez wszystkie wiersze w zestawie danych uczacyc\n",
        "\n",
        "history = model.fit(x_train,y_train,\n",
        "                    batch_size=batch_size,\n",
        "                    epochs=epochs,\n",
        "                    verbose=1,\n",
        "                    validation_data=(x_test,y_test))"
      ],
      "execution_count": 20,
      "outputs": [
        {
          "output_type": "stream",
          "text": [
            "Epoch 1/10\n",
            "469/469 [==============================] - 12s 25ms/step - loss: 0.2646 - accuracy: 0.9180 - val_loss: 0.1368 - val_accuracy: 0.9581\n",
            "Epoch 2/10\n",
            "469/469 [==============================] - 11s 24ms/step - loss: 0.1125 - accuracy: 0.9665 - val_loss: 0.0925 - val_accuracy: 0.9742\n",
            "Epoch 3/10\n",
            "469/469 [==============================] - 11s 24ms/step - loss: 0.0857 - accuracy: 0.9758 - val_loss: 0.0830 - val_accuracy: 0.9762\n",
            "Epoch 4/10\n",
            "469/469 [==============================] - 11s 24ms/step - loss: 0.0711 - accuracy: 0.9793 - val_loss: 0.0765 - val_accuracy: 0.9776\n",
            "Epoch 5/10\n",
            "469/469 [==============================] - 11s 24ms/step - loss: 0.0605 - accuracy: 0.9825 - val_loss: 0.1041 - val_accuracy: 0.9780\n",
            "Epoch 6/10\n",
            "469/469 [==============================] - 11s 24ms/step - loss: 0.0579 - accuracy: 0.9843 - val_loss: 0.0811 - val_accuracy: 0.9815\n",
            "Epoch 7/10\n",
            "469/469 [==============================] - 11s 24ms/step - loss: 0.0535 - accuracy: 0.9852 - val_loss: 0.1196 - val_accuracy: 0.9782\n",
            "Epoch 8/10\n",
            "469/469 [==============================] - 12s 25ms/step - loss: 0.0492 - accuracy: 0.9866 - val_loss: 0.0916 - val_accuracy: 0.9828\n",
            "Epoch 9/10\n",
            "469/469 [==============================] - 11s 24ms/step - loss: 0.0458 - accuracy: 0.9881 - val_loss: 0.1034 - val_accuracy: 0.9823\n",
            "Epoch 10/10\n",
            "469/469 [==============================] - 11s 24ms/step - loss: 0.0435 - accuracy: 0.9884 - val_loss: 0.1179 - val_accuracy: 0.9799\n"
          ],
          "name": "stdout"
        }
      ]
    },
    {
      "cell_type": "code",
      "metadata": {
        "colab": {
          "base_uri": "https://localhost:8080/"
        },
        "id": "Ani9QkyFXbYd",
        "outputId": "614d95b1-cd19-4d72-e3fb-ec8419974ebe"
      },
      "source": [
        "#ewolucja modelu\n",
        "score=model.evaluate(x_test,y_test,verbose=0)\n",
        "print('test accuracy',score[1])"
      ],
      "execution_count": 21,
      "outputs": [
        {
          "output_type": "stream",
          "text": [
            "test accuracy 0.9799000024795532\n"
          ],
          "name": "stdout"
        }
      ]
    },
    {
      "cell_type": "code",
      "metadata": {
        "id": "a3EHVe96cA0x"
      },
      "source": [
        ""
      ],
      "execution_count": null,
      "outputs": []
    }
  ]
}